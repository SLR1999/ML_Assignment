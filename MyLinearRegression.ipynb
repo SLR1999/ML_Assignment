{
 "cells": [
  {
   "cell_type": "code",
   "execution_count": 166,
   "metadata": {},
   "outputs": [],
   "source": [
    "import numpy as np\n",
    "import pandas as pd"
   ]
  },
  {
   "cell_type": "code",
   "execution_count": 167,
   "metadata": {
    "scrolled": true
   },
   "outputs": [
    {
     "name": "stdout",
     "output_type": "stream",
     "text": [
      "        TV  Radio  Newspaper  Sales\n",
      "1    230.1   37.8       69.2   22.1\n",
      "2     44.5   39.3       45.1   10.4\n",
      "3     17.2   45.9       69.3    9.3\n",
      "4    151.5   41.3       58.5   18.5\n",
      "5    180.8   10.8       58.4   12.9\n",
      "..     ...    ...        ...    ...\n",
      "196   38.2    3.7       13.8    7.6\n",
      "197   94.2    4.9        8.1    9.7\n",
      "198  177.0    9.3        6.4   12.8\n",
      "199  283.6   42.0       66.2   25.5\n",
      "200  232.1    8.6        8.7   13.4\n",
      "\n",
      "[200 rows x 4 columns]\n"
     ]
    }
   ],
   "source": [
    "data = pd.read_csv('data/Advertising.csv',index_col = 0)\n",
    "df = pd.DataFrame(data)\n",
    "print(df)"
   ]
  },
  {
   "cell_type": "code",
   "execution_count": 168,
   "metadata": {},
   "outputs": [],
   "source": [
    "def cost_function(w,X,y):\n",
    "    pred = np.dot(X,w)\n",
    "    m = len(y)\n",
    "    cost = (1/(2.0*m))*np.sum(np.square(pred-y))\n",
    "    return cost\n",
    "\n",
    "def gradient_descent(X,w,y,alpha=0.01,it=3):\n",
    "    m = len(y)\n",
    "    cost_array = np.zeros(it)\n",
    "    w_array = np.zeros((it,len(X[0])))\n",
    "    for var in range(it):\n",
    "        pred = np.dot(X,w)\n",
    "        w = w - (1/float(m))*alpha*(X.T.dot(pred-y))\n",
    "        w_array[var,:] = w.T\n",
    "        cost_array[var] = cost_function(w,X,y)\n",
    "        \n",
    "    return w, cost_array, w_array"
   ]
  },
  {
   "cell_type": "code",
   "execution_count": 169,
   "metadata": {},
   "outputs": [],
   "source": [
    "TV = df['TV'].values\n",
    "TV_train = TV[:150]\n",
    "TV_test = TV[150:]\n",
    "\n",
    "Radio = df['Radio'].values\n",
    "Radio_train = Radio[:150]\n",
    "Radio_test = Radio[150:]\n",
    "\n",
    "Newspaper = df['Newspaper'].values\n",
    "Newspaper_train = Newspaper[:150]\n",
    "Newspaper_test = Newspaper[150:]\n",
    "\n",
    "Sales = df['Sales'].values\n",
    "Sales_train = Sales[:150]\n",
    "Sales_test = Sales[150:]\n",
    "\n",
    "X_transpose = np.array([np.ones(150,dtype='float'),TV_train, Radio_train, Newspaper_train])\n",
    "X = X_transpose.transpose()\n",
    "\n",
    "X_test_transpose = np.array([np.ones(50,dtype='float'),TV_test, Radio_test, Newspaper_test])\n",
    "X_test = X_test_transpose.transpose()"
   ]
  },
  {
   "cell_type": "code",
   "execution_count": 170,
   "metadata": {},
   "outputs": [
    {
     "name": "stdout",
     "output_type": "stream",
     "text": [
      "[ 3.02976680e+00  4.70001182e-02  1.79932571e-01 -1.40273334e-03]\n"
     ]
    }
   ],
   "source": [
    "w,cost_array,w_array = gradient_descent(X,w,Sales_train)\n",
    "print(w)"
   ]
  },
  {
   "cell_type": "code",
   "execution_count": 171,
   "metadata": {},
   "outputs": [],
   "source": [
    "X_t_X = np.dot(X_transpose,X)\n",
    "X_t_X_inv = np.linalg.inv(X_t_X)"
   ]
  },
  {
   "cell_type": "code",
   "execution_count": 172,
   "metadata": {},
   "outputs": [
    {
     "name": "stdout",
     "output_type": "stream",
     "text": [
      "[ 3.02976680e+00  4.70001192e-02  1.79932571e-01 -1.40273317e-03]\n"
     ]
    }
   ],
   "source": [
    "A = np.dot(X_t_X_inv,X_transpose)\n",
    "w = np.dot(A,Sales_train)\n",
    "print(w)"
   ]
  },
  {
   "cell_type": "code",
   "execution_count": 173,
   "metadata": {},
   "outputs": [
    {
     "name": "stdout",
     "output_type": "stream",
     "text": [
      "1.6922371312876898\n"
     ]
    }
   ],
   "source": [
    "Xw = np.dot(X,w)\n",
    "error_vector = np.subtract(Xw,Sales_train)\n",
    "squared_error_vector = np.square(error_vector)\n",
    "mean_squared_error = np.sum(squared_error_vector)/len(squared_error_vector)\n",
    "RMSE = mean_squared_error**(0.5)\n",
    "print(RMSE)"
   ]
  },
  {
   "cell_type": "code",
   "execution_count": 174,
   "metadata": {},
   "outputs": [
    {
     "name": "stdout",
     "output_type": "stream",
     "text": [
      "1.633102834601582\n"
     ]
    }
   ],
   "source": [
    "X_testw = np.dot(X_test,w)\n",
    "test_error_vector = np.subtract(X_testw,Sales_test)\n",
    "test_squared_error_vector = np.square(test_error_vector)\n",
    "test_mean_squared_error = np.sum(test_squared_error_vector)/len(test_squared_error_vector)\n",
    "test_RMSE = test_mean_squared_error**(0.5)\n",
    "print(test_RMSE)"
   ]
  },
  {
   "cell_type": "code",
   "execution_count": null,
   "metadata": {},
   "outputs": [],
   "source": []
  }
 ],
 "metadata": {
  "kernelspec": {
   "display_name": "Python 3",
   "language": "python",
   "name": "python3"
  },
  "language_info": {
   "codemirror_mode": {
    "name": "ipython",
    "version": 3
   },
   "file_extension": ".py",
   "mimetype": "text/x-python",
   "name": "python",
   "nbconvert_exporter": "python",
   "pygments_lexer": "ipython3",
   "version": "3.5.6"
  }
 },
 "nbformat": 4,
 "nbformat_minor": 2
}
